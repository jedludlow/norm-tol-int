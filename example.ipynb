{
 "cells": [
  {
   "cell_type": "markdown",
   "id": "4905e61c-3ec9-4444-aaae-42eb13fd9206",
   "metadata": {},
   "source": [
    "# Normal Tolerance Interval Example"
   ]
  },
  {
   "cell_type": "code",
   "execution_count": 1,
   "id": "604d2eae-6ab8-4eee-bed0-c18b51981e85",
   "metadata": {},
   "outputs": [],
   "source": [
    "import normtolint as nti"
   ]
  },
  {
   "cell_type": "markdown",
   "id": "3e44635c-3827-446b-ba40-8c9c4f0c6baf",
   "metadata": {},
   "source": [
    "Example 4.8 from Meeker, William Q.; Hahn, Gerald J.; Escobar, Luis A.. Statistical Intervals: A Guide for Practitioners and Researchers (Wiley Series in Probability and Statistics) (p. 54). Wiley. Kindle Edition.\n",
    "\n",
    "Assume an electronic circuit is designed to produce an output voltage. For $n = 5$ units, the voltages show mean $\\bar{x} = 50.10$ volts and standard deviation $s = 1.31$ volts. Suppose now that the manufacturer wanted a two-sided 95% confidence tolerance interval to contain a proportion 0.90 of the distribution of the broader population of shipping units under a normal distribution assumption."
   ]
  },
  {
   "cell_type": "code",
   "execution_count": 2,
   "id": "97c385dc-db7f-41f1-bc42-ceec41fb12be",
   "metadata": {},
   "outputs": [],
   "source": [
    "n = 5\n",
    "x_bar = 50.1\n",
    "s = 1.31\n",
    "coverage = 0.90\n",
    "confidence = 0.95"
   ]
  },
  {
   "cell_type": "markdown",
   "id": "a2cfab65-b27b-41ba-9e6b-71bc19379261",
   "metadata": {},
   "source": [
    "Compute the appropriate tolerance factor."
   ]
  },
  {
   "cell_type": "code",
   "execution_count": 3,
   "id": "b3a63b2e-8a00-4164-a6bd-b050c903fa7a",
   "metadata": {},
   "outputs": [],
   "source": [
    "k = nti.tolerance_factor(n, coverage, confidence)"
   ]
  },
  {
   "cell_type": "markdown",
   "id": "a43fafa1-d214-4e9e-98e9-78bb83e5544f",
   "metadata": {},
   "source": [
    "Form the interval."
   ]
  },
  {
   "cell_type": "code",
   "execution_count": 4,
   "id": "c132ea93-1a2e-4d1e-8583-ff3d62b2afd3",
   "metadata": {},
   "outputs": [
    {
     "data": {
      "text/plain": [
       "(44.47930866740012, 55.720691332599884)"
      ]
     },
     "execution_count": 4,
     "metadata": {},
     "output_type": "execute_result"
    }
   ],
   "source": [
    "(x_bar - k * s, x_bar + k * s)"
   ]
  },
  {
   "cell_type": "markdown",
   "id": "dee733a6-b0d0-4e73-ba2b-574efbce3f35",
   "metadata": {},
   "source": [
    "The text shows [44.5, 55.7] as the answer for this example."
   ]
  },
  {
   "cell_type": "code",
   "execution_count": null,
   "id": "1b960ac9-4d0f-4a38-a23b-8bbc71f7de5f",
   "metadata": {},
   "outputs": [],
   "source": []
  }
 ],
 "metadata": {
  "kernelspec": {
   "display_name": "Python 3 (ipykernel)",
   "language": "python",
   "name": "python3"
  },
  "language_info": {
   "codemirror_mode": {
    "name": "ipython",
    "version": 3
   },
   "file_extension": ".py",
   "mimetype": "text/x-python",
   "name": "python",
   "nbconvert_exporter": "python",
   "pygments_lexer": "ipython3",
   "version": "3.10.0"
  }
 },
 "nbformat": 4,
 "nbformat_minor": 5
}
